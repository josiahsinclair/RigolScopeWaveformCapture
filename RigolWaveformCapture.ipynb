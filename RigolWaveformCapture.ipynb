{
 "cells": [
  {
   "cell_type": "markdown",
   "id": "18528747",
   "metadata": {},
   "source": [
    "# Rigol Waveform Capture\n",
    "by Josiah Sinclair"
   ]
  },
  {
   "cell_type": "code",
   "execution_count": 54,
   "id": "1a687895",
   "metadata": {
    "ExecuteTime": {
     "end_time": "2022-03-08T14:02:25.607255Z",
     "start_time": "2022-03-08T14:02:25.602268Z"
    }
   },
   "outputs": [],
   "source": [
    "# Import useful Python packages\n",
    "import numpy as np\n",
    "import matplotlib as mpl\n",
    "from matplotlib import pyplot as plt\n",
    "import pyvisa as visa\n",
    "import time\n",
    "import sys"
   ]
  },
  {
   "cell_type": "code",
   "execution_count": 55,
   "id": "92427b91",
   "metadata": {
    "ExecuteTime": {
     "end_time": "2022-03-08T14:02:28.351924Z",
     "start_time": "2022-03-08T14:02:28.334939Z"
    }
   },
   "outputs": [
    {
     "name": "stdout",
     "output_type": "stream",
     "text": [
      "USB0::0x1AB1::0x04CE::DS1ZA231602198::INSTR\n",
      "RIGOL TECHNOLOGIES,DS1054Z,DS1ZA231602198,00.04.04.SP4\n",
      "\n"
     ]
    }
   ],
   "source": [
    "# Connect to the oscilloscope\n",
    "# This should work if you only have a single Rigol oscilloscope connected by USB to your computer\n",
    "# I have only tested this with a Rigol DS1054Z\n",
    "rm = visa.ResourceManager()\n",
    "# Get the USB device, e.g. 'USB0::0x1AB1::0x0588::DS1ED141904883'\n",
    "instruments = rm.list_resources()\n",
    "usb = list(filter(lambda x: 'USB' in x, instruments))\n",
    "if len(usb) != 1:\n",
    "    print('Bad instrument list', instruments)\n",
    "    sys.exit(-1)\n",
    "print(usb[0])\n",
    "scope = rm.open_resource(usb[0], timeout=25e1, chunk_size=1024000)\n",
    "print(scope.query('*IDN?'))"
   ]
  },
  {
   "cell_type": "code",
   "execution_count": 108,
   "id": "fe6ac26a",
   "metadata": {
    "ExecuteTime": {
     "end_time": "2022-03-08T14:26:08.893658Z",
     "start_time": "2022-03-08T14:26:08.883713Z"
    }
   },
   "outputs": [
    {
     "name": "stdout",
     "output_type": "stream",
     "text": [
      "Sample rate is 250000000.0\n",
      "Memory depth is 3000\n",
      " samples\n",
      "X-scale is 500.0 ns\n",
      "SAMPRATE*12*XSCALE is 1500.0\n"
     ]
    }
   ],
   "source": [
    "# Query your scope to see what the acquisition parameters are.\n",
    "# You can also select the \"Acquire\" button on the scope to display or change these.\n",
    "SAMPRATE = float(scope.query(':ACQuire:SRATe?'))\n",
    "MEMDEPTH = scope.query(':ACQ:MDEP?')\n",
    "XSCALE = float(scope.query(':TIM:MAIN:SCAL?'))\n",
    "print('Sample rate is %1.1f' %SAMPRATE)\n",
    "print(\"Memory depth is\", MEMDEPTH, \"samples\")\n",
    "print(\"X-scale is %1.1f ns\"%(1e9*XSCALE))\n",
    "# You will want to set Sample Rate * 12 * xscale to be as close as possible to the memory depth in the subsequent cell.\n",
    "# if SAMPRATE*12*XSCALE > MEMDEPTH:increase MEMDEPTH\n",
    "# if SAMPRATE*12*XSCALE < MEMDEPTH: increase MEMDEPTH\n",
    "print('SAMPRATE*12*XSCALE is %1.1f' %(SAMPRATE*12*XSCALE))\n",
    "# adjust memory depth accordingly"
   ]
  },
  {
   "cell_type": "code",
   "execution_count": 113,
   "id": "04f2e6cc",
   "metadata": {
    "ExecuteTime": {
     "end_time": "2022-03-08T14:26:28.466737Z",
     "start_time": "2022-03-08T14:26:28.456798Z"
    }
   },
   "outputs": [
    {
     "data": {
      "text/plain": [
       "16"
      ]
     },
     "execution_count": 113,
     "metadata": {},
     "output_type": "execute_result"
    }
   ],
   "source": [
    "# Set the size of the waveform. This can be 3K, 30K, 300K, 3M, or 6M\n",
    "Mem_depth = 3000 \n",
    "scope.write(\":ACQ:MDEP \" + str(Mem_depth))"
   ]
  },
  {
   "cell_type": "code",
   "execution_count": 119,
   "id": "89a577c8",
   "metadata": {
    "ExecuteTime": {
     "end_time": "2022-03-08T14:31:28.149085Z",
     "start_time": "2022-03-08T14:31:27.824148Z"
    }
   },
   "outputs": [
    {
     "name": "stdout",
     "output_type": "stream",
     "text": [
      "3000\n"
     ]
    },
    {
     "data": {
      "text/plain": [
       "6"
      ]
     },
     "execution_count": 119,
     "metadata": {},
     "output_type": "execute_result"
    }
   ],
   "source": [
    "# Initialize the scope with the right settings for data acquisition\n",
    "# Some explanation of what the settings do.\n",
    "# :WAV:MODE RAW read the data in the internal memory if the scope is stopped\n",
    "# :WAV:MODE NORM reads the waveform data on the screen,\n",
    "# :WAV:MODE MAX read the data on the screen if the scope is running, if the scope is stopped, it reads the internal memory\n",
    "# So what I am seeing is that RAW, NORM, MAX all return 1200 points if the scope is running.\n",
    "# If the scope is stopped, with a 3 second sleep, NORM still returns 1200 points, but RAW and MAX returns more.\n",
    "scope.write(\":WAV:MODE RAW\")\n",
    "scope.write(\":WAV:FORM BYTE\")\n",
    "scope.write(\":STOP\")\n",
    "time.sleep(.2)  # Without a sleep of about 0.2 s I get a timeout error\n",
    "scope.write(\":WAV:STAR \" + str(0))\n",
    "scope.write(\":WAV:STOP \" + str(Mem_depth))\n",
    "scope.write(\":WAV:DATA? CHAN1\")  # Request the data\n",
    "unbuffered_data = scope.read_raw()\n",
    "rawdata = np.frombuffer(unbuffered_data, 'B')[11:-1]\n",
    "print(len(rawdata))\n",
    "scope.write(\":RUN\")"
   ]
  },
  {
   "cell_type": "code",
   "execution_count": 120,
   "id": "b9af4b8d",
   "metadata": {
    "ExecuteTime": {
     "end_time": "2022-03-08T14:31:34.224218Z",
     "start_time": "2022-03-08T14:31:34.126523Z"
    }
   },
   "outputs": [
    {
     "data": {
      "image/png": "[encoded data removed]",
      "text/plain": [
       "<Figure size 432x288 with 1 Axes>"
      ]
     },
     "metadata": {
      "needs_background": "light"
     },
     "output_type": "display_data"
    }
   ],
   "source": [
    "# Alright. Congrats. You got your data, now what are you going to do with it?\n",
    "# The first thing to do is convert it from binary into useful numbers and get an x axis.\n",
    "# Get the timescale\n",
    "dt = 12*XSCALE/Mem_depth # alternatively #float(scope.query(\":WAVeform:XINCrement?\"))\n",
    "# Get the voltage scale\n",
    "voltscale = float(scope.query(':CHAN1:SCAL?'))\n",
    "# print(\"Voltscale is\", voltscale)\n",
    "# Get the voltage offset\n",
    "voltoffset = float(scope.query(\":CHAN1:OFFS?\"))\n",
    "# print(\"Voltoffset is\", voltoffset)\n",
    "\n",
    "# Walk through the data, and map it to actual voltages\n",
    "# This mapping is from Josiah Sinclair 2021/07/30\n",
    "# Data is in Binary, shift by 256/2=128, then scale by 10 times the voltscale to get the actual voltage, then shift by the voltoffset\n",
    "data = (rawdata - 121.1) * 10 * voltscale / 256 - voltoffset\n",
    "# Now, generate a time axis.\n",
    "t = np.arange(0, dt * (len(data)), dt)\n",
    "\n",
    "# Plot the data (optional)\n",
    "plt.figure()\n",
    "plt.plot(t, data)\n",
    "plt.title(\"Oscilloscope Channel 1\")\n",
    "plt.ylabel(\"Voltage (V)\")\n",
    "plt.xlabel(\"Time (s)\")\n",
    "plt.ylim(-2 * voltscale, 2 * voltscale)\n",
    "plt.show()"
   ]
  },
  {
   "cell_type": "code",
   "execution_count": null,
   "id": "870a321e",
   "metadata": {},
   "outputs": [],
   "source": []
  }
 ],
 "metadata": {
  "kernelspec": {
   "display_name": "Python 3 (ipykernel)",
   "language": "python",
   "name": "python3"
  },
  "language_info": {
   "codemirror_mode": {
    "name": "ipython",
    "version": 3
   },
   "file_extension": ".py",
   "mimetype": "text/x-python",
   "name": "python",
   "nbconvert_exporter": "python",
   "pygments_lexer": "ipython3",
   "version": "3.8.8"
  }
 },
 "nbformat": 4,
 "nbformat_minor": 5
}
